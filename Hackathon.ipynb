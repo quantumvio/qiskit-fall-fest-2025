{
 "cells": [
  {
   "cell_type": "markdown",
   "metadata": {},
   "source": [
    "⚛️ 🚀 QISKIT FALL FEST  -- UNIVERSITY OF MELBOURNE  --  HACKATHON 🚀⚛️ \n",
    "====================================================================\n",
    "\n",
    "\n"
   ]
  },
  {
   "cell_type": "markdown",
   "metadata": {},
   "source": [
    "### Basic Setup for Drawing Plots\n",
    "\n",
    "Before we can get started, any plots in Python need to set up a few things. The most commonly used library for plotting is **Matplotlib**."
   ]
  },
  {
   "cell_type": "code",
   "execution_count": 50,
   "metadata": {},
   "outputs": [],
   "source": [
    "import matplotlib.pyplot as plt\n",
    "import seaborn as sns\n",
    "\n",
    "sns.set_theme(\n",
    "    style=\"whitegrid\",\n",
    "    context=\"notebook\",\n",
    "    palette=\"deep\"\n",
    ")\n",
    "\n",
    "plt.rcParams.update({\n",
    "    \"font.size\": 14,\n",
    "    \"axes.titlesize\": 16,\n",
    "    \"axes.labelsize\": 14,\n",
    "    \"xtick.labelsize\": 12,\n",
    "    \"ytick.labelsize\": 12\n",
    "})"
   ]
  },
  {
   "cell_type": "markdown",
   "metadata": {},
   "source": [
    "---\n",
    "---\n",
    "\n",
    "\n",
    "### Hamiltonian Setup 1 - Lithium hydride (LiH)\n",
    "\n",
    "In this step we generate the Hamiltonian for Lithium Hydride (LiH).  \n",
    "\n",
    "👉 The focus of this hackathon is **not** on how to derive these Hamiltonians.  \n",
    "If you’re curious, you can check out these resources:  \n",
    "- [Tutorial: Obtaining the Qubit Hamiltonian for H2 and LiH](https://www.youtube.com/watch?v=2XEjrwWhr88)  \n",
    "- [Tutorial: Molecular Hamiltonians with Qiskit Nature](https://qiskit.org/ecosystem/nature/tutorials/01_electronic_structure.html)  \n",
    "\n",
    "Don’t worry too much about the details here –  *Treat the following code cell as a black box that gives us the Hamiltonian of LiH `LiH_H` to work with*. \n",
    "\n",
    "**THERE IS A SHORTCUT TO GENERATE THE HAMILTONIAN WITHOUT REQUIRING PYSCF,PSI4 OR QISKIT NATURE. YOU CAN DELETE THE FOLLOWING LINES AND SKIP TO \"SHORTCUT TO GET THE HAMILTONIAN\".**\n",
    "\n",
    "---\n",
    "---\n",
    "\n"
   ]
  },
  {
   "cell_type": "code",
   "execution_count": 51,
   "metadata": {},
   "outputs": [
    {
     "data": {
      "text/plain": [
       "'\\nfrom qiskit_nature.second_q.transformers import ActiveSpaceTransformer\\nfrom qiskit_nature.second_q.mappers import JordanWignerMapper\\n'"
      ]
     },
     "execution_count": 51,
     "metadata": {},
     "output_type": "execute_result"
    }
   ],
   "source": [
    "\"\"\"\n",
    "import numpy as np\n",
    "from qiskit.quantum_info import SparsePauliOp\n",
    "from qiskit_nature.second_q.transformers import ActiveSpaceTransformer\n",
    "from qiskit_nature.second_q.mappers import JordanWignerMapper\n",
    "\"\"\""
   ]
  },
  {
   "cell_type": "code",
   "execution_count": 52,
   "metadata": {},
   "outputs": [
    {
     "data": {
      "text/plain": [
       "'\\n# -----------------------------\\n# LiH Hamiltonian (6 qubits)\\n# FOR MAC/LINUX USERS\\n# -----------------------------\\n\\nfrom qiskit_nature.second_q.drivers import PySCFDriver\\n\\nR = 2.2  # Angstrom bond distance\\ndriver = PySCFDriver(atom=f\"Li 0 0 0; H 0 0 {R}\", basis=\"sto3g\", charge=0, spin=0)\\nproblem = driver.run()\\n\\n# 2 electrons in 3 spatial orbitals -> 6 spin orbitals -> 6 qubits\\nproblem = ActiveSpaceTransformer(num_electrons=2, num_spatial_orbitals=3, active_orbitals=[1,2,5]).transform(problem)\\n\\n#Mapping to qubit Hamiltonian\\nmapper = JordanWignerMapper()\\nLiH = problem.hamiltonian.second_q_op()\\nHq: SparsePauliOp = mapper.map(LiH)\\n\\n#Add energy offset\\nE_consts = sum(problem.hamiltonian.constants.values())\\nI_str = \"I\" * Hq.num_qubits\\nH_shift = SparsePauliOp.from_list([(I_str, E_consts)])\\nLiH_H = Hq + H_shift\\nnp.save(\"LiH.npy\",LiH_H.to_list())\\n'"
      ]
     },
     "execution_count": 52,
     "metadata": {},
     "output_type": "execute_result"
    }
   ],
   "source": [
    "\"\"\"\n",
    "# -----------------------------\n",
    "# LiH Hamiltonian (6 qubits)\n",
    "# FOR MAC/LINUX USERS\n",
    "# -----------------------------\n",
    "\n",
    "from qiskit_nature.second_q.drivers import PySCFDriver\n",
    "\n",
    "R = 2.2  # Angstrom bond distance\n",
    "driver = PySCFDriver(atom=f\"Li 0 0 0; H 0 0 {R}\", basis=\"sto3g\", charge=0, spin=0)\n",
    "problem = driver.run()\n",
    "\n",
    "# 2 electrons in 3 spatial orbitals -> 6 spin orbitals -> 6 qubits\n",
    "problem = ActiveSpaceTransformer(num_electrons=2, num_spatial_orbitals=3, active_orbitals=[1,2,5]).transform(problem)\n",
    "\n",
    "#Mapping to qubit Hamiltonian\n",
    "mapper = JordanWignerMapper()\n",
    "LiH = problem.hamiltonian.second_q_op()\n",
    "Hq: SparsePauliOp = mapper.map(LiH)\n",
    "\n",
    "#Add energy offset\n",
    "E_consts = sum(problem.hamiltonian.constants.values())\n",
    "I_str = \"I\" * Hq.num_qubits\n",
    "H_shift = SparsePauliOp.from_list([(I_str, E_consts)])\n",
    "LiH_H = Hq + H_shift\n",
    "np.save(\"LiH.npy\",LiH_H.to_list())\n",
    "\"\"\""
   ]
  },
  {
   "cell_type": "code",
   "execution_count": 53,
   "metadata": {},
   "outputs": [
    {
     "data": {
      "text/plain": [
       "'\\n\\ndriver = Psi4Driver(psi4_input)\\n\\nproblem = driver.run()\\n\\nproblem = ActiveSpaceTransformer(\\n    num_electrons=2,\\n    num_spatial_orbitals=3,\\n    active_orbitals=[1, 2, 5]\\n).transform(problem)\\n\\nmapper = JordanWignerMapper()\\nLiH_second_q = problem.hamiltonian.second_q_op()\\nHq: SparsePauliOp = mapper.map(LiH_second_q)\\n\\n\\nE_consts = float(sum(problem.hamiltonian.constants.values()))\\nI_str = \"I\" * Hq.num_qubits\\nH_shift = SparsePauliOp.from_list([(I_str, E_consts)])\\nLiH_H = Hq + H_shift\\n'"
      ]
     },
     "execution_count": 53,
     "metadata": {},
     "output_type": "execute_result"
    }
   ],
   "source": [
    "\"\"\"\n",
    "# -----------------------------\n",
    "# LiH Hamiltonian (6 qubits)\n",
    "# FOR WINDOWS USERS\n",
    "# -----------------------------\n",
    "\n",
    "from qiskit_nature.second_q.drivers import Psi4Driver\n",
    "\n",
    "R = 2.2  # Angstrom\n",
    "#psi4_input = f\"\"\"\n",
    "#molecule {{\n",
    "#  0 1\n",
    "#  Li 0 0 0\n",
    "#  H  0 0 {R}\n",
    "#  units angstrom\n",
    "#}}\n",
    "#set {{\n",
    "#  basis sto-3g\n",
    "#}}\n",
    "\"\"\"\n",
    "\n",
    "driver = Psi4Driver(psi4_input)\n",
    "\n",
    "problem = driver.run()\n",
    "\n",
    "problem = ActiveSpaceTransformer(\n",
    "    num_electrons=2,\n",
    "    num_spatial_orbitals=3,\n",
    "    active_orbitals=[1, 2, 5]\n",
    ").transform(problem)\n",
    "\n",
    "mapper = JordanWignerMapper()\n",
    "LiH_second_q = problem.hamiltonian.second_q_op()\n",
    "Hq: SparsePauliOp = mapper.map(LiH_second_q)\n",
    "\n",
    "\n",
    "E_consts = float(sum(problem.hamiltonian.constants.values()))\n",
    "I_str = \"I\" * Hq.num_qubits\n",
    "H_shift = SparsePauliOp.from_list([(I_str, E_consts)])\n",
    "LiH_H = Hq + H_shift\n",
    "\"\"\""
   ]
  },
  {
   "cell_type": "markdown",
   "metadata": {},
   "source": [
    "### Shortcut to get the Hamiltonian for Lithium hydride (LiH)"
   ]
  },
  {
   "cell_type": "code",
   "execution_count": 54,
   "metadata": {},
   "outputs": [
    {
     "name": "stdout",
     "output_type": "stream",
     "text": [
      "Ground state energy: -7.844879093009737\n"
     ]
    }
   ],
   "source": [
    "import numpy as np\n",
    "from qiskit.quantum_info import SparsePauliOp\n",
    "\n",
    "LiH_list=np.load(\"LiH.npy\")\n",
    "LiH_H=SparsePauliOp.from_list(LiH_list)\n",
    "v,vv=np.linalg.eigh(LiH_H.to_matrix())\n",
    "print(\"Ground state energy:\",v[0])"
   ]
  },
  {
   "cell_type": "markdown",
   "metadata": {},
   "source": [
    "---\n",
    "---\n",
    "\n",
    "### ⚛️ Your Task: Designing the Ansatz\n",
    "\n",
    "👉 What matters here:  \n",
    "- The Hamiltonian encodes the chemistry.  \n",
    "- **Your job is to design the ansatz.** The ansatz is basically your idea of how to solve the problem on a quantum computer.\n",
    "- Don’t be afraid to experiment- **there’s no perfect ansatz**, only clever trade-offs and interesting ideas.\n",
    "\n",
    "Different choices of Ansatz (layer depth, rotation types, entanglement pattern, parameter initialization, …) will lead to different results in accuracy, convergence speed, and runtime. You can always explore the dummy VQE below to experiment and get a feeling for the impact of different design choices as needed.\n",
    "\n",
    "💡 *Tip:* Explore ansatz features that catch your interest—begin with something simple, then tweak and experiment your way forward. \n",
    "- Start simple: single-qubit rotations + one entangling layer.\n",
    "- Increase depth and check if accuracy improves (and how runtime changes).\n",
    "- Swap gate types and entanglement patterns to see their effect.\n",
    "- Try a different initial state or smarter parameter initialization.\n",
    "- Iterate: take a working scheme and refine it step by step.\n",
    "- Explore Qiskit’s built-in ansatz circuits—then tweak them into your own.\n",
    "---\n",
    "\n",
    "### Useful Qiskit Ansatz Implementations\n",
    "\n",
    "Qiskit comes with standard ansatz circuits you can try out, adapt, and use to explore their trade-offs:\n",
    "\n",
    "- **EfficientSU2** (hardware-efficient ansatz with Rx/Ry rotations + entanglement)  \n",
    "  [Docs](https://qiskit.org/documentation/stubs/qiskit.circuit.library.EfficientSU2.html)  \n",
    "\n",
    "- **TwoLocal** (general template: choose rotation blocks + entanglement blocks)  \n",
    "  [Docs](https://qiskit.org/documentation/stubs/qiskit.circuit.library.TwoLocal.html)  \n",
    "\n",
    "- **UCCSD (Unitary Coupled Cluster with Singles and Doubles)** (a chemistry-inspired ansatz)\n",
    "  [Tutorial](https://qiskit-community.github.io/qiskit-nature/howtos/vqe_ucc.html  )\n",
    "\n",
    "- **RealAmplitudes** (very simple layered Rx ansatz)  \n",
    "  [Docs](https://qiskit.org/documentation/stubs/qiskit.circuit.library.RealAmplitudes.html)\n",
    "\n",
    "---\n",
    "\n",
    "Keep in mind: **there is no unique optimal ansatz for this problem**. The design space is open, and creativity is part of the exploration. 🚀\n",
    "\n",
    "\n",
    "---\n",
    "---\n"
   ]
  },
  {
   "cell_type": "code",
   "execution_count": 55,
   "metadata": {},
   "outputs": [],
   "source": [
    "###################\n",
    "#---YOUR TURN-----#\n",
    "###################\n",
    "\n",
    "# You can copy the code from the Warm up example and switch to the LiH_H Hamiltonian to get started :) \n",
    "\n",
    "# ...\n"
   ]
  },
  {
   "cell_type": "markdown",
   "metadata": {},
   "source": [
    "\n",
    "&nbsp;&nbsp;&nbsp;&nbsp;\n",
    "&nbsp;&nbsp;&nbsp;&nbsp;\n",
    "&nbsp;&nbsp;&nbsp;&nbsp;\n",
    "&nbsp;&nbsp;&nbsp;&nbsp;\n",
    "\n",
    "&nbsp;&nbsp;&nbsp;&nbsp;\n",
    "&nbsp;&nbsp;&nbsp;&nbsp;\n",
    "&nbsp;&nbsp;&nbsp;&nbsp;\n",
    "&nbsp;&nbsp;&nbsp;&nbsp;\n",
    "\n",
    "&nbsp;&nbsp;&nbsp;&nbsp;\n",
    "&nbsp;&nbsp;&nbsp;&nbsp;\n",
    "&nbsp;&nbsp;&nbsp;&nbsp;\n",
    "&nbsp;&nbsp;&nbsp;&nbsp;\n",
    "\n",
    "\n",
    "\n",
    "&nbsp;&nbsp;&nbsp;&nbsp;\n",
    "&nbsp;&nbsp;&nbsp;&nbsp;\n",
    "&nbsp;&nbsp;&nbsp;&nbsp;\n",
    "&nbsp;&nbsp;&nbsp;&nbsp;\n",
    "\n",
    "&nbsp;&nbsp;&nbsp;&nbsp;\n",
    "&nbsp;&nbsp;&nbsp;&nbsp;\n",
    "&nbsp;&nbsp;&nbsp;&nbsp;\n",
    "&nbsp;&nbsp;&nbsp;&nbsp;\n",
    "\n",
    "&nbsp;&nbsp;&nbsp;&nbsp;\n",
    "&nbsp;&nbsp;&nbsp;&nbsp;\n",
    "&nbsp;&nbsp;&nbsp;&nbsp;\n",
    "&nbsp;&nbsp;&nbsp;&nbsp;\n",
    "\n",
    "\n",
    "\n",
    "\n",
    "\n",
    "\n",
    "\n",
    "---\n",
    "---\n",
    "\n",
    "# Warm-up: The Variational Quantum Eigensolver (VQE)\n",
    "\n",
    "Sure, this toy problem is simple enough to solve by hand. But the fun part is that we can picture the Hilbert space on the Bloch sphere—perfect for building intuition about ansatz behavior. 😊\n",
    "\n",
    "Our Hamiltonian:\n",
    "$\\hat{H} =\n",
    "\\begin{pmatrix}\n",
    "1 & 0 \\\\\n",
    "0 & -1\n",
    "\\end{pmatrix}$.\n",
    "\n",
    "The ground state of this Hamiltonian is $\\ket{1}$, while the VQE starts from $\\ket{0}$. Take a pen and paper, draw the Bloch sphere, and mark both states. The task of the VQE is then to move on the Bloch sphere from the initial state to the ground state.\n",
    "\n",
    "---\n",
    "\n",
    "### Prompts\n",
    "\n",
    "1. **Run the baseline.**  \n",
    "   Execute the code and get familiar with the outcome and what you see.\n",
    "\n",
    "3. **Gate choice matters.**  \n",
    "   Change the ansatz from an `Rx` gate to an `Rz` gate and run VQE again. Why is `Rz` a poor choice for this problem? Look at the Bloch sphere and mark the region that can be reached by varying the gate parameter. The ansatz essentially defines which parts of the Bloch sphere are accessible.\n",
    "\n",
    "2. **Initial point matters.**  \n",
    "   Change the initial point from `[0]` to `[π/2]`. Do you notice any difference? Think about where you start on the Bloch sphere if you initialize with π/2: you are already closer to the ground-state energy, so your initial guess is better and VQE can converge more easily.\n",
    "\n",
    "4. **Add one more gate.**  \n",
    "   Switch back to `Rx` and add an additional `Ry` with a new parameter. Do you see any differences of using just a single `Rx` gate compared to `Rx Ry`? With both gates you can reach essentially the entire Bloch sphere, but this also introduces more parameters to optimize...\n",
    "---\n",
    "---\n"
   ]
  },
  {
   "cell_type": "code",
   "execution_count": 56,
   "metadata": {},
   "outputs": [],
   "source": [
    "import numpy as np\n",
    "import time\n",
    "from qiskit import QuantumCircuit\n",
    "from qiskit.circuit import Parameter\n",
    "from qiskit.quantum_info import SparsePauliOp\n",
    "from qiskit.primitives import StatevectorEstimator as Estimator\n",
    "from qiskit_algorithms import VQE\n",
    "from qiskit_algorithms.optimizers import COBYLA"
   ]
  },
  {
   "cell_type": "markdown",
   "metadata": {},
   "source": [
    "The following is a helping function to plot your results including a convergence plot, the ansatz and an overview of important parameters.\n"
   ]
  },
  {
   "cell_type": "code",
   "execution_count": 57,
   "metadata": {},
   "outputs": [],
   "source": [
    "# -----------------------------\n",
    "# Plot convergence\n",
    "# -----------------------------\n",
    "def plots_and_visualization(history):\n",
    "        \n",
    "    iters   = [h[0] for h in history]\n",
    "    energies= [h[1] for h in history]\n",
    "\n",
    "    plt.plot(iters, energies, marker=\"o\", label=\"VQE\")\n",
    "    plt.axhline(E_exact, linestyle=\"--\", label=\"GS energy\", color=\"red\", linewidth=1)\n",
    "    plt.xlim(0, max(iters) if iters else 1)\n",
    "    plt.ylim(-1.2, 1.2)\n",
    "    plt.xlabel(\"Iteration\")\n",
    "    plt.ylabel(\"Energy\")\n",
    "    plt.title(\"VQE Energy Convergence\")\n",
    "    plt.legend()\n",
    "    plt.grid(alpha=0.2)\n",
    "    plt.tight_layout()\n",
    "    plt.show()\n",
    "\n",
    "    print(\"Final result\")\n",
    "    print(\"-------------------------------------------\")\n",
    "    print(\"E_min   :\", float(res.eigenvalue.real))\n",
    "    print(\"Error   :\", float(res.eigenvalue.real)-E_exact)\n",
    "    print(\"Optimal parameters  :\", [float(np.round(x,2)) for x in res.optimal_point])\n",
    "    print(\"n_qubits:\", nq)\n",
    "    print(\"n_params:\", len(params))\n",
    "    print(\"depth   :\", ans.depth())\n",
    "    elapsed = t1 - t0\n",
    "    print(f\"VQE runtime: {elapsed:.2f} seconds\")\n",
    "    print(f\"Iteration steps: {len(iters)}\")\n",
    "    n_ent = sum(1 for ci in ans.data if len(ci.qubits) > 1)\n",
    "    print(\"Number of entangling gates:\", n_ent)\n",
    "    print(\"-------------------------------------------\")\n",
    "   "
   ]
  },
  {
   "cell_type": "markdown",
   "metadata": {},
   "source": [
    "The following is the actual VQE Warm up setup."
   ]
  },
  {
   "cell_type": "code",
   "execution_count": 58,
   "metadata": {},
   "outputs": [
    {
     "data": {
      "image/png": "[encoded data removed]",
      "text/plain": [
       "<Figure size 640x480 with 1 Axes>"
      ]
     },
     "metadata": {},
     "output_type": "display_data"
    },
    {
     "name": "stdout",
     "output_type": "stream",
     "text": [
      "Final result\n",
      "-------------------------------------------\n",
      "E_min   : -0.999999999973015\n",
      "Error   : 2.6984969814236592e-11\n",
      "Optimal parameters  : [3.14]\n",
      "n_qubits: 1\n",
      "n_params: 1\n",
      "depth   : 1\n",
      "VQE runtime: 0.13 seconds\n",
      "Iteration steps: 27\n",
      "Number of entangling gates: 0\n",
      "-------------------------------------------\n",
      "YOUR ANSATZ:\n"
     ]
    },
    {
     "data": {
      "image/png": "[encoded data removed]",
      "text/plain": [
       "<Figure size 185.453x117.056 with 1 Axes>"
      ]
     },
     "execution_count": 58,
     "metadata": {},
     "output_type": "execute_result"
    }
   ],
   "source": [
    "# -----------------------------\n",
    "# Problem: H = 0.5 * Z (2-level)\n",
    "# Ground energy is -0.5\n",
    "# -----------------------------\n",
    "H = SparsePauliOp.from_list([(\"Z\", 1)])\n",
    "nq = H.num_qubits\n",
    "\n",
    "E_exact = float(np.linalg.eigvalsh(H.to_matrix()).min().real)\n",
    "\n",
    "# -----------------------------\n",
    "# Ansatz: 1 qubit, one parameter\n",
    "# -----------------------------\n",
    "n_layers = 1\n",
    "params = [Parameter(f\"θ_{l}\") for l in range(n_layers)]\n",
    "ans = QuantumCircuit(nq)\n",
    "for l in range(n_layers):\n",
    "    ans.ry(params[l], 0)\n",
    "\n",
    "# -----------------------------\n",
    "# Optimizer + VQE\n",
    "# -----------------------------\n",
    "opt = COBYLA(maxiter=50)\n",
    "\n",
    "history = []\n",
    "def store_history(eval_count, params, value, meta=None):\n",
    "    history.append((eval_count, float(value)))\n",
    "\n",
    "\n",
    "vqe = VQE(\n",
    "    ansatz=ans,\n",
    "    optimizer=opt,\n",
    "    estimator=Estimator(),     \n",
    "    initial_point=[0]*len(params),       \n",
    "    callback=store_history\n",
    ")\n",
    "\n",
    "t0 = time.perf_counter()\n",
    "res = vqe.compute_minimum_eigenvalue(H)\n",
    "t1 = time.perf_counter()\n",
    "\n",
    "# -----------------------------\n",
    "# Plot convergence\n",
    "# -----------------------------\n",
    "plots_and_visualization(history)\n",
    "# -----------------------------\n",
    "# Plot circuit\n",
    "# -----------------------------\n",
    "print(\"YOUR ANSATZ:\")\n",
    "ans.draw(output=\"mpl\")"
   ]
  }
 ],
 "metadata": {
  "kernelspec": {
   "display_name": "checking",
   "language": "python",
   "name": "python3"
  },
  "language_info": {
   "codemirror_mode": {
    "name": "ipython",
    "version": 3
   },
   "file_extension": ".py",
   "mimetype": "text/x-python",
   "name": "python",
   "nbconvert_exporter": "python",
   "pygments_lexer": "ipython3",
   "version": "3.11.13"
  }
 },
 "nbformat": 4,
 "nbformat_minor": 2
}
