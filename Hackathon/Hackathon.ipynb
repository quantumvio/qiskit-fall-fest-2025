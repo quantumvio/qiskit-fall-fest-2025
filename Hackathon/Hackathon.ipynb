{
 "cells": [
  {
   "cell_type": "markdown",
   "metadata": {},
   "source": [
    "⚛️ 🚀 QISKIT FALL FEST  -- UNIVERSITY OF MELBOURNE  --  HACKATHON 🚀⚛️ \n",
    "====================================================================\n",
    "\n",
    "\n"
   ]
  },
  {
   "cell_type": "markdown",
   "metadata": {},
   "source": [
    "### Basic Setup for Drawing Plots\n",
    "\n",
    "Before we can get started, any plots in Python need to set up a few things. The most commonly used library for plotting is **Matplotlib**."
   ]
  },
  {
   "cell_type": "code",
   "execution_count": 3,
   "metadata": {},
   "outputs": [],
   "source": [
    "import matplotlib.pyplot as plt\n",
    "import seaborn as sns\n",
    "\n",
    "sns.set_theme(\n",
    "    style=\"whitegrid\",\n",
    "    context=\"notebook\",\n",
    "    palette=\"deep\"\n",
    ")\n",
    "\n",
    "plt.rcParams.update({\n",
    "    \"font.size\": 14,\n",
    "    \"axes.titlesize\": 16,\n",
    "    \"axes.labelsize\": 14,\n",
    "    \"xtick.labelsize\": 12,\n",
    "    \"ytick.labelsize\": 12\n",
    "})"
   ]
  },
  {
   "cell_type": "markdown",
   "metadata": {},
   "source": [
    "---\n",
    "---\n",
    "\n",
    "\n",
    "### Hamiltonian Setup 1 - Lithium hydride (LiH)\n",
    "\n",
    "In this step we generate the Hamiltonian for Lithium Hydride (LiH).  \n",
    "\n",
    "👉 The focus of this hackathon is **not** on how to derive these Hamiltonians.  \n",
    "If you’re curious, you can check out these resources:  \n",
    "- [Tutorial: Obtaining the Qubit Hamiltonian for H2 and LiH](https://www.youtube.com/watch?v=2XEjrwWhr88)  \n",
    "- [Tutorial: Molecular Hamiltonians with Qiskit Nature](https://qiskit.org/ecosystem/nature/tutorials/01_electronic_structure.html)  \n",
    "\n",
    "Don’t worry too much about the details here –  *Treat the following code cell as a black box that gives us the Hamiltonian of LiH `LiH_H` to work with*. \n",
    "\n",
    "---\n",
    "---\n",
    "\n"
   ]
  },
  {
   "cell_type": "code",
   "execution_count": 4,
   "metadata": {},
   "outputs": [],
   "source": [
    "import numpy as np\n",
    "import Helper\n",
    "from qiskit.quantum_info import SparsePauliOp\n",
    "from qiskit_nature.second_q.drivers import PySCFDriver\n",
    "from qiskit_nature.second_q.transformers import ActiveSpaceTransformer\n",
    "from qiskit_nature.second_q.mappers import JordanWignerMapper"
   ]
  },
  {
   "cell_type": "code",
   "execution_count": 5,
   "metadata": {},
   "outputs": [],
   "source": [
    "# -----------------------------\n",
    "# LiH Hamiltonian (6 qubits)\n",
    "# -----------------------------\n",
    "R = 2.2  # Angstrom bond distance\n",
    "driver = PySCFDriver(atom=f\"Li 0 0 0; H 0 0 {R}\", basis=\"sto3g\", charge=0, spin=0)\n",
    "problem = driver.run()\n",
    "\n",
    "# 2 electrons in 3 spatial orbitals -> 6 spin orbitals -> 6 qubits\n",
    "problem = ActiveSpaceTransformer(num_electrons=2, num_spatial_orbitals=3, active_orbitals=[1,2,5]).transform(problem)\n",
    "\n",
    "#Mapping to qubit Hamiltonian\n",
    "mapper = JordanWignerMapper()\n",
    "LiH = problem.hamiltonian.second_q_op()\n",
    "Hq: SparsePauliOp = mapper.map(LiH)\n",
    "\n",
    "#Add energy offset\n",
    "E_consts = sum(problem.hamiltonian.constants.values())\n",
    "I_str = \"I\" * Hq.num_qubits\n",
    "H_shift = SparsePauliOp.from_list([(I_str, E_consts)])\n",
    "LiH_H = Hq + H_shift\n"
   ]
  },
  {
   "cell_type": "markdown",
   "metadata": {},
   "source": [
    "---\n",
    "---\n",
    "\n",
    "### ⚛️ Your Task: Designing the Ansatz\n",
    "\n",
    "👉 What matters here:  \n",
    "- The Hamiltonian encodes the chemistry.  \n",
    "- **Your job is to design the ansatz.** The ansatz is basically your idea of how to solve the problem on a quantum computer.\n",
    "- Don’t be afraid to experiment- **there’s no perfect ansatz**, only clever trade-offs and interesting ideas.\n",
    "\n",
    "Different choices of Ansatz (layer depth, rotation types, entanglement pattern, parameter initialization, …) will lead to different results in accuracy, convergence speed, and runtime. You can always explore the dummy VQE below to experiment and get a feeling for the impact of different design choices as needed.\n",
    "\n",
    "💡 *Tip:* Explore ansatz features that catch your interest—begin with something simple, then tweak and experiment your way forward. \n",
    "- Start simple: single-qubit rotations + one entangling layer.\n",
    "- Increase depth and check if accuracy improves (and how runtime changes).\n",
    "- Swap gate types and entanglement patterns to see their effect.\n",
    "- Try a different initial state or smarter parameter initialization.\n",
    "- Iterate: take a working scheme and refine it step by step.\n",
    "- Explore Qiskit’s built-in ansatz circuits—then tweak them into your own.\n",
    "---\n",
    "\n",
    "### Useful Qiskit Ansatz Implementations\n",
    "\n",
    "Qiskit comes with standard ansatz circuits you can try out, adapt, and use to explore their trade-offs:\n",
    "\n",
    "- **EfficientSU2** (hardware-efficient ansatz with Rx/Ry rotations + entanglement)  \n",
    "  [Docs](https://qiskit.org/documentation/stubs/qiskit.circuit.library.EfficientSU2.html)  \n",
    "\n",
    "- **TwoLocal** (general template: choose rotation blocks + entanglement blocks)  \n",
    "  [Docs](https://qiskit.org/documentation/stubs/qiskit.circuit.library.TwoLocal.html)  \n",
    "\n",
    "- **UCCSD (Unitary Coupled Cluster with Singles and Doubles)** (a chemistry-inspired ansatz)\n",
    "  [Tutorial](https://qiskit-community.github.io/qiskit-nature/howtos/vqe_ucc.html  )\n",
    "\n",
    "- **RealAmplitudes** (very simple layered Rx ansatz)  \n",
    "  [Docs](https://qiskit.org/documentation/stubs/qiskit.circuit.library.RealAmplitudes.html)\n",
    "\n",
    "---\n",
    "\n",
    "Keep in mind: **there is no unique optimal ansatz for this problem**. The design space is open, and creativity is part of the exploration. 🚀\n",
    "\n",
    "\n",
    "---\n",
    "---\n"
   ]
  },
  {
   "cell_type": "code",
   "execution_count": 6,
   "metadata": {},
   "outputs": [],
   "source": [
    "###################\n",
    "#---YOUR TURN-----#\n",
    "###################\n",
    "\n",
    "# You can copy the code from the Warm up example and switch to the LiH_H Hamiltonian to get started :) \n",
    "\n",
    "# ...\n"
   ]
  },
  {
   "cell_type": "markdown",
   "metadata": {},
   "source": [
    "\n",
    "&nbsp;&nbsp;&nbsp;&nbsp;\n",
    "&nbsp;&nbsp;&nbsp;&nbsp;\n",
    "&nbsp;&nbsp;&nbsp;&nbsp;\n",
    "&nbsp;&nbsp;&nbsp;&nbsp;\n",
    "\n",
    "&nbsp;&nbsp;&nbsp;&nbsp;\n",
    "&nbsp;&nbsp;&nbsp;&nbsp;\n",
    "&nbsp;&nbsp;&nbsp;&nbsp;\n",
    "&nbsp;&nbsp;&nbsp;&nbsp;\n",
    "\n",
    "&nbsp;&nbsp;&nbsp;&nbsp;\n",
    "&nbsp;&nbsp;&nbsp;&nbsp;\n",
    "&nbsp;&nbsp;&nbsp;&nbsp;\n",
    "&nbsp;&nbsp;&nbsp;&nbsp;\n",
    "\n",
    "\n",
    "\n",
    "\n",
    "\n",
    "\n",
    "\n",
    "\n",
    "\n",
    "---\n",
    "---\n",
    "\n",
    "# Warm-up: The Variational Quantum Eigensolver (VQE)\n",
    "\n",
    "Sure, this toy problem is simple enough to solve by hand. But the fun part is that we can picture the Hilbert space on the Bloch sphere—perfect for building intuition about ansatz behavior. 😊\n",
    "\n",
    "Our Hamiltonian:\n",
    "$\\hat{H} =\n",
    "\\begin{pmatrix}\n",
    "1 & 0 \\\\\n",
    "0 & -1\n",
    "\\end{pmatrix}$.\n",
    "\n",
    "The ground state of this Hamiltonian is $\\ket{1}$, while the VQE starts from $\\ket{0}$. Take a pen and paper, draw the Bloch sphere, and mark both states. The task of the VQE is then to move on the Bloch sphere from the initial state to the ground state.\n",
    "\n",
    "---\n",
    "\n",
    "### Prompts\n",
    "\n",
    "1. **Run the baseline.**  \n",
    "   Execute the code and get familiar with the outcome and what you see.\n",
    "\n",
    "3. **Gate choice matters.**  \n",
    "   Change the ansatz from an `Rx` gate to an `Rz` gate and run VQE again. Why is `Rz` a poor choice for this problem? Look at the Bloch sphere and mark the region that can be reached by varying the gate parameter. The ansatz essentially defines which parts of the Bloch sphere are accessible.\n",
    "\n",
    "2. **Initial point matters.**  \n",
    "   Change the initial point from `[0]` to `[π/2]`. Do you notice any difference? Think about where you start on the Bloch sphere if you initialize with π/2: you are already closer to the ground-state energy, so your initial guess is better and VQE can converge more easily.\n",
    "\n",
    "4. **Add one more gate.**  \n",
    "   Switch back to `Rx` and add an additional `Ry` with a new parameter. Do you see any differences of using just a single `Rx` gate compared to `Rx Ry`? With both gates you can reach essentially the entire Bloch sphere, but this also introduces more parameters to optimize...\n",
    "---\n",
    "---\n"
   ]
  },
  {
   "cell_type": "code",
   "execution_count": 8,
   "metadata": {},
   "outputs": [],
   "source": [
    "import numpy as np\n",
    "import time\n",
    "from qiskit import QuantumCircuit\n",
    "from qiskit.circuit import Parameter\n",
    "from qiskit.quantum_info import SparsePauliOp\n",
    "from qiskit.primitives import StatevectorEstimator as Estimator\n",
    "#from qiskit.primitives import Estimator\n",
    "from qiskit_algorithms import VQE\n",
    "from qiskit_algorithms.optimizers import COBYLA"
   ]
  },
  {
   "cell_type": "code",
   "execution_count": 9,
   "metadata": {},
   "outputs": [
    {
     "data": {
      "image/png": "[encoded data removed]",
      "text/plain": [
       "<Figure size 600x400 with 1 Axes>"
      ]
     },
     "metadata": {},
     "output_type": "display_data"
    },
    {
     "name": "stdout",
     "output_type": "stream",
     "text": [
      "Final result\n",
      "-------------------------------------------\n",
      "E_answer   : -1.0\n",
      "E_min      : -0.999999999973015\n",
      "Error      : 2.6984969814236592e-11\n",
      "Optimal parameters  : [3.14]\n",
      "n_qubits: 1\n",
      "n_params: 1\n",
      "depth   : 1\n",
      "VQE runtime: 0.12 seconds\n",
      "Iteration steps: 27\n",
      "Number of entangling gates: 0\n",
      "-------------------------------------------\n",
      "YOUR ANSATZ:\n"
     ]
    },
    {
     "data": {
      "image/png": "[encoded data removed]",
      "text/plain": [
       "<Figure size 185.453x117.056 with 1 Axes>"
      ]
     },
     "execution_count": 9,
     "metadata": {},
     "output_type": "execute_result"
    }
   ],
   "source": [
    "# -----------------------------\n",
    "# Problem: H = 0.5 * Z (2-level)\n",
    "# Ground energy is -0.5\n",
    "# -----------------------------\n",
    "H = SparsePauliOp.from_list([(\"Z\", 1)])\n",
    "nq = H.num_qubits\n",
    "E_exact = float(np.linalg.eigvalsh(H.to_matrix()).min().real)\n",
    "\n",
    "# -----------------------------\n",
    "# Ansatz: 1 qubit, one parameter\n",
    "# -----------------------------\n",
    "n_layers = 1\n",
    "params = [Parameter(f\"θ_{l}\") for l in range(n_layers)]\n",
    "ans = QuantumCircuit(nq)\n",
    "for l in range(n_layers):\n",
    "    ans.ry(params[l], 0)\n",
    "\n",
    "# -----------------------------\n",
    "# Optimizer + VQE\n",
    "# -----------------------------\n",
    "opt = COBYLA(maxiter=50)\n",
    "\n",
    "history = []\n",
    "def store_history(eval_count, params, value, meta=None):\n",
    "    history.append((eval_count, float(value)))\n",
    "\n",
    "vqe = VQE(\n",
    "    ansatz=ans,\n",
    "    optimizer=opt,\n",
    "    estimator=Estimator(),     \n",
    "    initial_point=[0.0]*len(params),       \n",
    "    callback=store_history\n",
    ")\n",
    "\n",
    "t0 = time.perf_counter()\n",
    "res = vqe.compute_minimum_eigenvalue(H)\n",
    "t1 = time.perf_counter()\n",
    "\n",
    "# -----------------------------\n",
    "# Plot convergence\n",
    "# -----------------------------\n",
    "iters   = [h[0] for h in history]\n",
    "energies= [h[1] for h in history]\n",
    "\n",
    "res, history, runtime = Helper.run_vqe(ansatz=ans, hamiltonian=H, maxiter = 200, optimizer=opt)\n",
    "Helper.plot_vqe_results(res, history, H, ans, runtime)\n",
    "\n",
    "print(\"YOUR ANSATZ:\")\n",
    "ans.draw(output=\"mpl\")"
   ]
  }
 ],
 "metadata": {
  "kernelspec": {
   "display_name": "checking",
   "language": "python",
   "name": "python3"
  },
  "language_info": {
   "codemirror_mode": {
    "name": "ipython",
    "version": 3
   },
   "file_extension": ".py",
   "mimetype": "text/x-python",
   "name": "python",
   "nbconvert_exporter": "python",
   "pygments_lexer": "ipython3",
   "version": "3.11.9"
  }
 },
 "nbformat": 4,
 "nbformat_minor": 2
}
