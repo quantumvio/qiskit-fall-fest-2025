{
 "cells": [
  {
   "cell_type": "markdown",
   "id": "dd26509b-0a24-479c-8f28-cdae5abdda67",
   "metadata": {},
   "source": [
    "# Getting started"
   ]
  },
  {
   "cell_type": "markdown",
   "id": "052d78a3-7c07-459f-bf5a-571ba9bd61b5",
   "metadata": {},
   "source": [
    "This notebook is based on IBM Quantum's 'Quantum chemistry with VQE' course available here: https://quantum.cloud.ibm.com/learning/en/courses/quantum-chem-with-vqe"
   ]
  },
  {
   "cell_type": "markdown",
   "id": "649dad82-1556-40c0-911a-5b19008d0184",
   "metadata": {},
   "source": [
    "First we need to import `qiskit` and other required packages:\n",
    "- `qiskit_aer` for classical simulation of the quantum hardware\n",
    "- `qiskit_ibm_runtime` to access the primitives used to run the VQE\n",
    "- `pyscf` to perform classical quantum chemistry calculations\n",
    "- `matplotlib` and `pylatexenc` to draw circuits and plot results\n",
    "- `numpy` (`np`) for general math capabilities including array operations"
   ]
  },
  {
   "cell_type": "code",
   "execution_count": 2,
   "id": "f47cacd1-94ac-4c5a-bb1c-1ccef9d87d71",
   "metadata": {},
   "outputs": [
    {
     "name": "stdout",
     "output_type": "stream",
     "text": [
      "qiskit            : 2.2.0\n",
      "qiskit_aer        : 0.17.2\n",
      "qiskit_ibm_runtime: 0.42.0\n",
      "pyscf             : 2.10.0\n",
      "matplotlib        : 3.10.6\n",
      "pylatexenc        : 2.10\n",
      "np                : 2.3.3\n"
     ]
    }
   ],
   "source": [
    "import qiskit\n",
    "import qiskit_aer\n",
    "import qiskit_ibm_runtime\n",
    "import pyscf\n",
    "import matplotlib\n",
    "import pylatexenc\n",
    "import numpy as np\n",
    "print('qiskit            :', qiskit.__version__)\n",
    "print('qiskit_aer        :', qiskit_aer.__version__)\n",
    "print('qiskit_ibm_runtime:', qiskit_ibm_runtime.__version__)\n",
    "print('pyscf             :', pyscf.__version__)\n",
    "print('matplotlib        :', matplotlib.__version__)\n",
    "print('pylatexenc        :', pylatexenc.__version__)\n",
    "print('np                :', np.__version__)"
   ]
  },
  {
   "cell_type": "markdown",
   "id": "d6af5cd5-8eec-4970-9944-2512c2961dd0",
   "metadata": {},
   "source": [
    "We can also print out the version we're using, don't worry if your version is not exactly the same, the code will *probably* still work...\n",
    "\n",
    "For reference, I'm using python 3.13.1"
   ]
  },
  {
   "cell_type": "markdown",
   "id": "65d15fc9-bee6-40a6-b7aa-7ab8cc6695eb",
   "metadata": {},
   "source": [
    "# Defining molecules and building Hamiltonians"
   ]
  },
  {
   "cell_type": "markdown",
   "id": "271605fe-4242-4ffe-8230-d8b970d0e377",
   "metadata": {},
   "source": [
    "The simplest molecule is the hydrogen molecule, H$_2$. The molecule itself only depends on 1 variable, the `bond_distance` between the two hydrogen atoms, it's equilibrium value is about 0.735 Å, but you can set this to be whatever you like (within reason). However, our calculation needs a few other parameters such as the total spin, total charge and symmetry of the molecule, as well a choice of atomic orbital basis."
   ]
  },
  {
   "cell_type": "code",
   "execution_count": null,
   "id": "f4199f96-577c-4eca-b90b-f40b830e6b44",
   "metadata": {},
   "outputs": [],
   "source": [
    "from pyscf import gto\n",
    "\n",
    "bond_distance = \n",
    "# in angstrom (Å)\n",
    "\n",
    "atomic_position = bond_distance / 2\n",
    "mol = gto.Mole()\n",
    "mol.build(\n",
    "    verbose=0,\n",
    "    atom=[[\"H\", (0, 0, -atomic_position)],\n",
    "          [\"H\", (0, 0,  atomic_position)]],\n",
    "    basis=\"sto-6g\",\n",
    "    spin=0,\n",
    "    charge=0,\n",
    "    symmetry=\"Dooh\",\n",
    ")"
   ]
  },
  {
   "cell_type": "markdown",
   "id": "35692071-903c-489f-8308-ba33c8ea79d6",
   "metadata": {},
   "source": [
    "We now have a representation of the hydrogen molecule that we can perform computations on. The simplest computation we can perform is a 'mean-field' calculation, which we can do through the `scf` module"
   ]
  },
  {
   "cell_type": "code",
   "execution_count": 4,
   "id": "f684f274-8228-439f-b585-6db9a8ceddec",
   "metadata": {},
   "outputs": [
    {
     "name": "stdout",
     "output_type": "stream",
     "text": [
      "Mean-field:\n",
      "Nuclear repulsion energy: 0.7199689944489797\n",
      "Electronic energy       : -1.8455976628764188\n",
      "Total energy            : -1.125628668427439\n",
      "                          -1.125628668427439\n"
     ]
    }
   ],
   "source": [
    "from pyscf import scf\n",
    "\n",
    "# mf is short for mean-field calculation, a cheap calculation that gives us an approximate energy value\n",
    "mf = scf.RHF(mol)\n",
    "mf.scf()\n",
    "\n",
    "print('Mean-field:')\n",
    "print('Nuclear repulsion energy:', mf.energy_nuc())\n",
    "print('Electronic energy       :', mf.energy_elec()[0])\n",
    "print('Total energy            :', mf.energy_tot())\n",
    "print('                         ', mf.energy_nuc() + mf.energy_elec()[0])"
   ]
  },
  {
   "cell_type": "markdown",
   "id": "7907813a-45c2-4d03-a0a9-2a871263bdd7",
   "metadata": {},
   "source": [
    "This computes a rough approximation to the electronic energy which combines the effects of the electrons being attracted to the nuclei and repelled from each other. The nuclear repulsion energy can be calculated exactly, since we defined exactly where the nuclei (atoms) are. The total energy is the sum of the electronic and nuclear energies. We can confirm this ourselves."
   ]
  },
  {
   "cell_type": "markdown",
   "id": "6f05e922-4b27-4c86-aa42-c0bcd8a8cb7b",
   "metadata": {},
   "source": [
    "We can also perform a more accuracte 'complete active space' calculation through the `mcscf` module"
   ]
  },
  {
   "cell_type": "code",
   "execution_count": 5,
   "id": "69093d4f-49d7-4b1b-b369-c2d919054791",
   "metadata": {},
   "outputs": [
    {
     "name": "stdout",
     "output_type": "stream",
     "text": [
      "Complete active space:\n",
      "Nuclear repulsion energy: 0.7199689944489797\n",
      "Electronic energy       : -1.8659468483033685\n",
      "Total energy            : -1.1459778538543888\n",
      "                          -1.1459778538543888\n"
     ]
    }
   ],
   "source": [
    "from pyscf import mcscf\n",
    "\n",
    "# perform a complete active space calculation, this will serve as the \"exact\" answer we would like to achieve using VQE\n",
    "molecular_orbitals = mf.mo_coeff\n",
    "cas = mcscf.CASCI(mf, ncas=2, nelecas=(1, 1))\n",
    "cas_results = cas.kernel(molecular_orbitals)\n",
    "print('Complete active space:')\n",
    "# nuclear repulsion energy doesn't change...\n",
    "print('Nuclear repulsion energy:', mf.energy_nuc())\n",
    "print('Electronic energy       :', cas_results[1])\n",
    "print('Total energy            :', cas_results[0])\n",
    "print('                         ', mf.energy_nuc() + cas_results[1])"
   ]
  },
  {
   "cell_type": "markdown",
   "id": "aba235b3-941a-48da-b76f-83b2537c9403",
   "metadata": {},
   "source": [
    "We can see that this gives us a lower energy than the less accurate mean-field approximation, this is due to the variational principle. We can also check that the total energy we obtain is still equal to the sum of the electronic and nuclear energies.\n",
    "\n",
    "Notice that the mean-field and complete active space energy results are quite close together (or maybe not, depending on what bond length you chose). This indicates that the mean-field approximation is a good approximation to the true behaviour. For larger more complicated chemical systems, mean-field approximations are less accurate and high accuracy methods such as large complete active space calculations or full configuration interaction become very expensive. This is the regime where we want to use quantum computers to achieve a quantum advantage, but for today we're working with a simple problem as a proof-of-principle experiment."
   ]
  },
  {
   "cell_type": "markdown",
   "id": "9ea32a52-648e-49d0-9ab0-244e1b7d52a2",
   "metadata": {},
   "source": [
    "To run VQE on our molecule we need to extract the Hamiltonian in a suitable form. This can be quite an involved process so there's no need to try to understand the code below"
   ]
  },
  {
   "cell_type": "code",
   "execution_count": 6,
   "id": "744b2919-5ba9-4a65-9db5-9156df182c03",
   "metadata": {},
   "outputs": [],
   "source": [
    "from qiskit.quantum_info import SparsePauliOp\n",
    "\n",
    "def cholesky(V, eps):\n",
    "    # see https://arxiv.org/pdf/1711.02242.pdf section B2\n",
    "    # see https://arxiv.org/abs/1808.02625\n",
    "    # see https://arxiv.org/abs/2104.08957\n",
    "    no = V.shape[0]\n",
    "    chmax, ng = 20 * no, 0\n",
    "    W = V.reshape(no**2, no**2)\n",
    "    L = np.zeros((no**2, chmax))\n",
    "    Dmax = np.diagonal(W).copy()\n",
    "    nu_max = np.argmax(Dmax)\n",
    "    vmax = Dmax[nu_max]\n",
    "    while vmax > eps:\n",
    "        L[:, ng] = W[:, nu_max]\n",
    "        if ng > 0:\n",
    "            L[:, ng] -= np.dot(L[:, 0:ng], (L.T)[0:ng, nu_max])\n",
    "        L[:, ng] /= np.sqrt(vmax)\n",
    "        Dmax[: no**2] -= L[: no**2, ng] ** 2\n",
    "        ng += 1\n",
    "        nu_max = np.argmax(Dmax)\n",
    "        vmax = Dmax[nu_max]\n",
    "    L = L[:, :ng].reshape((no, no, ng))\n",
    "    # print(\n",
    "    #     \"accuracy of Cholesky decomposition \",\n",
    "    #     np.abs(np.einsum(\"prg,qsg->prqs\", L, L) - V).max(),\n",
    "    # )\n",
    "    return L, ng\n",
    "\n",
    "    \n",
    "def identity(n):\n",
    "    return SparsePauliOp.from_list([(\"I\" * n, 1)])\n",
    " \n",
    " \n",
    "def creators_destructors(n, mapping=\"jordan_wigner\"):\n",
    "    c_list = []\n",
    "    if mapping == \"jordan_wigner\":\n",
    "        for p in range(n):\n",
    "            if p == 0:\n",
    "                ell, r = \"I\" * (n - 1), \"\"\n",
    "            elif p == n - 1:\n",
    "                ell, r = \"\", \"Z\" * (n - 1)\n",
    "            else:\n",
    "                ell, r = \"I\" * (n - p - 1), \"Z\" * p\n",
    "            cp = SparsePauliOp.from_list([(ell + \"X\" + r, 0.5), (ell + \"Y\" + r, 0.5j)])\n",
    "            c_list.append(cp)\n",
    "    else:\n",
    "        raise ValueError(\"Unsupported mapping.\")\n",
    "    d_list = [cp.adjoint() for cp in c_list]\n",
    "    return c_list, d_list\n",
    "\n",
    "\n",
    "def build_hamiltonian(ecore: float, h1e: np.ndarray, h2e: np.ndarray) -> SparsePauliOp:\n",
    "    ncas, _ = h1e.shape\n",
    " \n",
    "    C, D = creators_destructors(2 * ncas, mapping=\"jordan_wigner\")\n",
    "    Exc = []\n",
    "    for p in range(ncas):\n",
    "        Excp = [C[p] @ D[p] + C[ncas + p] @ D[ncas + p]]\n",
    "        for r in range(p + 1, ncas):\n",
    "            Excp.append(\n",
    "                C[p] @ D[r]\n",
    "                + C[ncas + p] @ D[ncas + r]\n",
    "                + C[r] @ D[p]\n",
    "                + C[ncas + r] @ D[ncas + p]\n",
    "            )\n",
    "        Exc.append(Excp)\n",
    " \n",
    "    # low-rank decomposition of the Hamiltonian\n",
    "    Lop, ng = cholesky(h2e, 1e-6)\n",
    "    t1e = h1e - 0.5 * np.einsum(\"pxxr->pr\", h2e)\n",
    " \n",
    "    H = ecore * identity(2 * ncas)\n",
    "    # one-body term\n",
    "    for p in range(ncas):\n",
    "        for r in range(p, ncas):\n",
    "            H += t1e[p, r] * Exc[p][r - p]\n",
    "    # two-body term\n",
    "    for g in range(ng):\n",
    "        Lg = 0 * identity(2 * ncas)\n",
    "        for p in range(ncas):\n",
    "            for r in range(p, ncas):\n",
    "                Lg += Lop[p, r, g] * Exc[p][r - p]\n",
    "        H += 0.5 * Lg @ Lg\n",
    " \n",
    "    return H.chop().simplify()"
   ]
  },
  {
   "cell_type": "code",
   "execution_count": 7,
   "id": "0336d7b9-4a37-49cb-bc44-71591f8626ba",
   "metadata": {},
   "outputs": [
    {
     "name": "stdout",
     "output_type": "stream",
     "text": [
      "SparsePauliOp(['IIII', 'IIIZ', 'IZII', 'IIZI', 'ZIII', 'IZIZ', 'IIZZ', 'ZIIZ', 'IZZI', 'ZZII', 'ZIZI', 'YYYY', 'XXYY', 'YYXX', 'XXXX'],\n",
      "              coeffs=[-0.09820182+0.j, -0.1740751 +0.j, -0.1740751 +0.j,  0.2242933 +0.j,\n",
      "  0.2242933 +0.j,  0.16891402+0.j,  0.1210099 +0.j,  0.16631441+0.j,\n",
      "  0.16631441+0.j,  0.1210099 +0.j,  0.17504456+0.j,  0.04530451+0.j,\n",
      "  0.04530451+0.j,  0.04530451+0.j,  0.04530451+0.j])\n"
     ]
    }
   ],
   "source": [
    "from pyscf import ao2mo\n",
    "h1e, ecore = cas.get_h1eff()\n",
    "h2e = ao2mo.restore(1, cas.get_h2eff(), cas.ncas)\n",
    "H = build_hamiltonian(ecore, h1e, h2e)\n",
    "print(H)"
   ]
  },
  {
   "cell_type": "markdown",
   "id": "f312bb5f-f293-4210-9da2-5c23f74c82dc",
   "metadata": {},
   "source": [
    "This is the Hamiltonian of the hydrogen molecule in Pauli form and is now ready for us to perform VQE on. Note that this Hamiltonain *includes* the nuclear repulsion energy, which we will need to keep in mind when comparing results later. Check that you understand what the above output means, though you don't need to know how we obtained it."
   ]
  },
  {
   "cell_type": "markdown",
   "id": "dc55ad0c-dc1d-4522-aeed-f37b847c7203",
   "metadata": {},
   "source": [
    "# Generating an Ansatz"
   ]
  },
  {
   "cell_type": "markdown",
   "id": "a2a06404-4899-4cb7-84e7-ad162457e2e0",
   "metadata": {},
   "source": [
    "Choosing a good Ansatz for your VQE experiment is incredibly important, some things that make a good Ansatz are:\n",
    "- Can produce states that are very close to the true ground-state\n",
    "- Respects the capabilities of your quantum device\n",
    "\n",
    "Some things that make a poor Ansatz are:\n",
    "- Many parameters to optimise\n",
    "- Deep circuits that accumulate more error\n",
    "\n",
    "There is a library of Ansätze inbuilt into `qiskit`, let's take a look at the `efficient_su2` and `n_local` Ansätze. For each of them, try out the different options to see what they do. Keep in mind the criteria for a good Ansatz, are any of these choices of options likely to give particularly good/bad Ansätze?"
   ]
  },
  {
   "cell_type": "markdown",
   "id": "4ba92226-9fa1-4fcd-8a55-9aada4ce7ccf",
   "metadata": {},
   "source": [
    "### `efficient_su2` Ansatz\n",
    "\n",
    "The `efficient_su2` Ansatz is composed of layers of single qubit (SU(2)) gates and entangling gates. Experiment with the code below to try out different options."
   ]
  },
  {
   "cell_type": "code",
   "execution_count": null,
   "id": "483238e9-7779-4ed4-b22b-fc11459a3ad2",
   "metadata": {},
   "outputs": [],
   "source": [
    "from qiskit.circuit.library import efficient_su2\n",
    "n_qubits = 4\n",
    "\n",
    "reps = 2\n",
    "insert_barriers = True\n",
    "# entanglement = 'linear'\n",
    "# entanglement = 'circular'\n",
    "# entanglement = 'full'\n",
    "# entanglement = 'pairwise'\n",
    "# entanglement = 'reverse_linear'\n",
    "# su2_gates = ['rx']\n",
    "# su2_gates = ['rz']\n",
    "# su2_gates = ['h']\n",
    "# su2_gates = ['rx', 'h']\n",
    "\n",
    "ansatz = efficient_su2(n_qubits, su2_gates, entanglement, reps=reps, insert_barriers=insert_barriers)\n",
    "ansatz.draw('mpl')\n"
   ]
  },
  {
   "cell_type": "markdown",
   "id": "ef6910f1-073c-4bc0-b2c8-39319b037265",
   "metadata": {},
   "source": [
    "Barriers are useful for visualisation and controlling precise timing of gates, but generally not necessary. Make sure to turn them off (`insert_barriers=False`) when it comes time to transpile the circuit."
   ]
  },
  {
   "cell_type": "markdown",
   "id": "aae8188a-9a67-4060-a08b-9d805c024476",
   "metadata": {},
   "source": [
    "### `n_local` Ansatz\n",
    "\n",
    "The `n_local` Ansatz is a more general case of `efficient_su2` that allows us to use more complex structures in the entangling and rotation layers."
   ]
  },
  {
   "cell_type": "code",
   "execution_count": null,
   "id": "294d7416-d7b9-4a45-a391-697b421d7e33",
   "metadata": {},
   "outputs": [],
   "source": [
    "from qiskit.circuit.library import n_local\n",
    "n_qubits = 4\n",
    "\n",
    "reps = 2\n",
    "insert_barriers = False\n",
    "# entanglement = 'linear'\n",
    "# entanglement = 'circular'\n",
    "# entanglement = 'pairwise'\n",
    "# entanglement_blocks = ['cx']\n",
    "# entanglement_blocks = ['cz']\n",
    "# entanglement_blocks = ['crx']\n",
    "# entanglement_blocks = ['ccx']\n",
    "# rotation_blocks = ['rx']\n",
    "# rotation_blocks = ['rx', 'h']\n",
    "# rotation_blocks = ['crx']\n",
    "\n",
    "ansatz = n_local(n_qubits, rotation_blocks, entanglement_blocks, entanglement, reps=reps, insert_barriers=insert_barriers)\n",
    "# ansatz = ansatz.decompose()\n",
    "ansatz.draw('mpl')\n"
   ]
  },
  {
   "cell_type": "markdown",
   "id": "da0151b1-9060-4ea0-af80-833d99e0def7",
   "metadata": {},
   "source": [
    "For more complicated sets of gates e.g. `'crx'` and `'ccx'`, the circuit will need to be decomposed in order to get an idea of its actual depth."
   ]
  },
  {
   "cell_type": "markdown",
   "id": "895333c6-458c-4b9a-9854-ecd744e0889b",
   "metadata": {},
   "source": [
    "### Custom Ansätze\n",
    "\n",
    "You can also construct your own ansätze by simply creating a circuit like below"
   ]
  },
  {
   "cell_type": "code",
   "execution_count": null,
   "id": "93e9fc29-1103-4d28-9329-103883bca8bd",
   "metadata": {},
   "outputs": [],
   "source": [
    "from qiskit import QuantumCircuit\n",
    "from qiskit.circuit import ParameterVector\n",
    "\n",
    "n_qubits = 4\n",
    "n_parameters = 8\n",
    "\n",
    "theta = ParameterVector(r\"$\\Theta$\", n_parameters)\n",
    "ansatz = QuantumCircuit(n_qubits)\n",
    "\n",
    "ansatz.rx(theta[0], 0)\n",
    "ansatz.rx(theta[1], 1)\n",
    "ansatz.rx(theta[2], 2)\n",
    "ansatz.rx(theta[3], 3)\n",
    "\n",
    "for i in range(1, n_qubits):\n",
    "    ansatz.cz(0, i)\n",
    "ansatz.rx(theta[4], 0)\n",
    "for i in reversed(range(1, n_qubits)):\n",
    "    ansatz.cz(0, i)\n",
    "    \n",
    "ansatz.rx(-theta[0], 0)\n",
    "ansatz.rx(-theta[1], 1)\n",
    "ansatz.rx(-theta[2], 2)\n",
    "ansatz.rx(-theta[3], 3)\n",
    "\n",
    "ansatz.draw('mpl')"
   ]
  },
  {
   "cell_type": "code",
   "execution_count": null,
   "id": "ba5ffe7d-264f-440d-a1cf-875e7ebc47d6",
   "metadata": {},
   "outputs": [],
   "source": [
    "# Create your own Ansatz here!\n",
    "\n"
   ]
  },
  {
   "cell_type": "markdown",
   "id": "d68e023c-3490-4b20-8b44-159aa4db2f68",
   "metadata": {},
   "source": [
    "# Classical optimisation"
   ]
  },
  {
   "cell_type": "markdown",
   "id": "a04f9b09-f71a-4042-8848-840e763d732a",
   "metadata": {},
   "source": [
    "The `scipy` package has a variety of inbuilt optimisation routines including `'cobyla'`, `'slsqp'` and `'nelder-mead'`"
   ]
  },
  {
   "cell_type": "code",
   "execution_count": null,
   "id": "9313e852-cb33-4e07-bc2f-efa552ad2136",
   "metadata": {},
   "outputs": [],
   "source": [
    "from scipy.optimize import minimize\n",
    "# optimization_method = 'cobyla'\n",
    "# optimization_method = 'slsqp'\n",
    "# optimization_method = 'nelder-mead'"
   ]
  },
  {
   "cell_type": "markdown",
   "id": "1d575749-66cf-494f-97e4-d39d51d52825",
   "metadata": {},
   "source": [
    "The cost function we wish to minimise is defined as:"
   ]
  },
  {
   "cell_type": "code",
   "execution_count": 10,
   "id": "2d443163-9d6a-4cda-8d49-09b6ae03dfb4",
   "metadata": {},
   "outputs": [],
   "source": [
    "def cost_func(parameters, ansatz_circuit, hamiltonian, estimator, path):\n",
    "    pub = (ansatz_circuit, [hamiltonian], [parameters])\n",
    "    # pub stands for Primitive Unified Bloc. It just holds the circuit, observable (Hamiltonian) and parameters\n",
    "    result = estimator.run(pubs=[pub]).result()\n",
    "    # run the estimator and retrieve the results\n",
    "    energy = result[0].data.evs[0]\n",
    "    path.append(energy)\n",
    "    return energy"
   ]
  },
  {
   "cell_type": "markdown",
   "id": "876a5641-416c-44bc-beab-4c0109dd3c62",
   "metadata": {},
   "source": [
    "it takes a set of parameters and outputs the corresponding energy. To do so, it also requires knowledge of the Ansatz circuit, the Hamiltonian and an `Estimator` object. I've also added a `path` argument which we can use to record all the energies calculated and (hopefully) get a nice plot later. We also need to choose a set of parameters from which to start the minimisation, here we just pick random rotation angles between $0$ and $2\\pi$"
   ]
  },
  {
   "cell_type": "code",
   "execution_count": 11,
   "id": "f5292bf8-56c3-4fb2-a8bb-77678ad1ca7a",
   "metadata": {},
   "outputs": [
    {
     "name": "stdout",
     "output_type": "stream",
     "text": [
      "[4.21751693 6.20096843 6.11369465 1.56736532 1.38407173 1.88714499\n",
      " 1.03805948 0.37073325 4.86415952 4.26259294 6.05261359 2.99426719]\n"
     ]
    }
   ],
   "source": [
    "initial_parameters = 2 * np.pi * np.random.random(ansatz.num_parameters)\n",
    "print(initial_parameters)"
   ]
  },
  {
   "cell_type": "markdown",
   "id": "3520e653-7fe0-4cdb-afd2-69d2c289d9ad",
   "metadata": {},
   "source": [
    "# Running a VQE calculation"
   ]
  },
  {
   "cell_type": "markdown",
   "id": "626d23d8-00f2-4d66-ba78-96dba72315fc",
   "metadata": {},
   "source": [
    "Following Qiskit patterns there are four steps to solving the problem:\n",
    "1. Map classical inputs to a quantum problem\n",
    "2. Optimize problem for quantum execution\n",
    "3. Execute using Qiskit Primitives\n",
    "4. Post-process and return result in classical format"
   ]
  },
  {
   "cell_type": "markdown",
   "id": "d4c28fe9-6f5a-40fc-9494-bbee6c99dd68",
   "metadata": {},
   "source": [
    "## Step 1: map classical input to quantum problem"
   ]
  },
  {
   "cell_type": "markdown",
   "id": "f05e13f2-d45a-4f1e-a753-f2c7476fdef9",
   "metadata": {},
   "source": [
    "This mapping is performed by the definitions of the Hamiltonian and Ansatz. Let's check which ones we are using:"
   ]
  },
  {
   "cell_type": "code",
   "execution_count": 12,
   "id": "d8117af2-384f-4678-968d-7d58a24e882c",
   "metadata": {},
   "outputs": [
    {
     "name": "stdout",
     "output_type": "stream",
     "text": [
      "SparsePauliOp(['IIII', 'IIIZ', 'IZII', 'IIZI', 'ZIII', 'IZIZ', 'IIZZ', 'ZIIZ', 'IZZI', 'ZZII', 'ZIZI', 'YYYY', 'XXYY', 'YYXX', 'XXXX'],\n",
      "              coeffs=[-0.09820182+0.j, -0.1740751 +0.j, -0.1740751 +0.j,  0.2242933 +0.j,\n",
      "  0.2242933 +0.j,  0.16891402+0.j,  0.1210099 +0.j,  0.16631441+0.j,\n",
      "  0.16631441+0.j,  0.1210099 +0.j,  0.17504456+0.j,  0.04530451+0.j,\n",
      "  0.04530451+0.j,  0.04530451+0.j,  0.04530451+0.j])\n"
     ]
    }
   ],
   "source": [
    "print(H)"
   ]
  },
  {
   "cell_type": "code",
   "execution_count": 13,
   "id": "1e5c14db-0ce4-4000-b3e3-ae94faf6a97f",
   "metadata": {},
   "outputs": [
    {
     "data": {
      "image/png": "[encoded data removed]",
      "text/plain": [
       "<Figure size 789.163x367.889 with 1 Axes>"
      ]
     },
     "execution_count": 13,
     "metadata": {},
     "output_type": "execute_result"
    }
   ],
   "source": [
    "ansatz.draw('mpl')"
   ]
  },
  {
   "cell_type": "markdown",
   "id": "abe6fc7f-c662-45f5-bd90-09cabd0653ba",
   "metadata": {},
   "source": [
    "## Step 2: optimize for quantum execution"
   ]
  },
  {
   "cell_type": "markdown",
   "id": "d6b3e445-36cc-45b4-895a-a64780250c18",
   "metadata": {},
   "source": [
    "To begin optimising the circuit, we need to select a backend. To access a real IBM quantum backend we can use:"
   ]
  },
  {
   "cell_type": "code",
   "execution_count": 14,
   "id": "6dac7a1e-57dd-4a0e-b644-9a07db6875a5",
   "metadata": {},
   "outputs": [
    {
     "name": "stderr",
     "output_type": "stream",
     "text": [
      "qiskit_runtime_service._discover_account:WARNING:2025-10-01 11:35:03,464: Loading account with the given token. A saved account will not be used.\n"
     ]
    },
    {
     "name": "stdout",
     "output_type": "stream",
     "text": [
      "The least busy backend is: ibm_pittsburgh\n"
     ]
    }
   ],
   "source": [
    "from qiskit_ibm_runtime import QiskitRuntimeService\n",
    "instance = \n",
    "token = \n",
    "service = QiskitRuntimeService(channel=\"ibm_cloud\", instance=instance, token=token)\n",
    "hardware_backend = service.least_busy(operational=True)\n",
    "print('The least busy backend is:', hardware_backend.name)\n",
    "\n",
    "## We can also select a specific backend by e.g.\n",
    "# hardware_backend = service.backend(name = 'ibm_kingston')\n",
    "# print('The selected backend is:', hardware_backend.name)\n",
    "## or print all available backends with\n",
    "# print('A list of all backends is:', service.backends())"
   ]
  },
  {
   "cell_type": "markdown",
   "id": "3bd02e4b-123a-4633-9980-17ae2cdb7aac",
   "metadata": {},
   "source": [
    "you will need to insert your own `instance` and `token` values in order to log in through your account, or update the code to load your saved account from workshop 1. If we don't want to run on real hardware we can also use a noisy simulation based on the properties of the hardware:"
   ]
  },
  {
   "cell_type": "code",
   "execution_count": 15,
   "id": "18bff62a-2a08-4072-b615-a9d5b94b0884",
   "metadata": {},
   "outputs": [
    {
     "name": "stdout",
     "output_type": "stream",
     "text": [
      "The noisy simulator is: aer_simulator_from(ibm_pittsburgh)\n"
     ]
    }
   ],
   "source": [
    "from qiskit_aer import AerSimulator\n",
    "noisy_simulator = AerSimulator.from_backend(hardware_backend)\n",
    "print('The noisy simulator is:', noisy_simulator.name)"
   ]
  },
  {
   "cell_type": "markdown",
   "id": "44ebce64-b4ac-4ced-b4f8-a69bc05988cc",
   "metadata": {},
   "source": [
    "The circuit transpilation (optimisation of the circuit structure, not to be confused with optimisation of the circuit parameters) is performed by a series of passes controlled by a `PassManager`"
   ]
  },
  {
   "cell_type": "code",
   "execution_count": null,
   "id": "33f6db68-7097-43eb-87d3-13b4e2abf8f3",
   "metadata": {},
   "outputs": [],
   "source": [
    "from qiskit.transpiler import PassManager\n",
    "from qiskit.transpiler.preset_passmanagers import generate_preset_pass_manager\n",
    "from qiskit.transpiler.passes import ALAPScheduleAnalysis,PadDynamicalDecoupling,ConstrainedReschedule\n",
    "from qiskit.circuit.library import XGate\n",
    "\n",
    "# We can use either hardware_backend or noisy_simulator as the target here\n",
    "target = noisy_simulator.target\n",
    "pm = generate_preset_pass_manager(target=target, optimization_level=3)\n",
    "pm.scheduling = PassManager(\n",
    "    [\n",
    "        ALAPScheduleAnalysis(target=target),\n",
    "        ConstrainedReschedule(\n",
    "            acquire_alignment=target.acquire_alignment,\n",
    "            pulse_alignment=target.pulse_alignment,\n",
    "            target=target),\n",
    "        PadDynamicalDecoupling(\n",
    "            target=target,\n",
    "            dd_sequence=[XGate(), XGate()],\n",
    "            pulse_alignment=target.pulse_alignment),\n",
    "    ])\n",
    "# The individual passes are\n",
    "#     ALAPSSheduleAnalysis: schedules gates as late as possible.\n",
    "#     ConstrainedReshedule: fixes alignment of gates (i.e. there's a minimum time-resolution that the backend can work with accurately)\n",
    "#     PadDynamicalDecoupling: adds dynamical decoupling pulses to the qubit idle times\n",
    "\n",
    "# Use the pass manager and draw the resulting circuit\n",
    "transpiled_ansatz = pm.run(ansatz)\n",
    "transpiled_ansatz.draw(output=\"mpl\", idle_wires=False)"
   ]
  },
  {
   "cell_type": "markdown",
   "id": "9fe15984-d4ec-4c5e-9071-1177c2fc6466",
   "metadata": {},
   "source": [
    "The circuit is probably longer than it was before transpilation. Can you say why?\n",
    "\n",
    "Note that the transpiler has also mapped our original 4 'virtual' qubits to actual physical qubits on the device. We also need to tell the Hamiltonian which physical qubits to measure."
   ]
  },
  {
   "cell_type": "code",
   "execution_count": null,
   "id": "f00af65f-df6e-4ff0-9a35-a03ab424ccc4",
   "metadata": {},
   "outputs": [],
   "source": [
    "transpiled_H = H.apply_layout(transpiled_ansatz.layout)\n",
    "print(transpiled_H)"
   ]
  },
  {
   "cell_type": "markdown",
   "id": "84a60e49-d402-4f33-80c9-21d4576a0f53",
   "metadata": {},
   "source": [
    "Do you understand why the Hamiltonian looks like this now?"
   ]
  },
  {
   "cell_type": "markdown",
   "id": "d35e4801-2874-4a9b-a1fc-b394f35a4934",
   "metadata": {},
   "source": [
    "## Step 3: execute with `qiskit` primitives"
   ]
  },
  {
   "cell_type": "markdown",
   "id": "96cd47db-279c-4086-95f0-bb02aa981d25",
   "metadata": {},
   "source": [
    "To execute on either quantum hardware or the simulator we can use the form below, simply replacing the `backend` argument of the `Session`. A session works works a little like a reservation of the device, once the session reaches the front of the queue, jobs submitted within the session have priority and don't need to wait in the queue. This is very useful for VQE and similar workflows where the next circuit depends on the results of the previous one. Since access to the hardware is limited (and we would need to wait in a queue to run our circuits), let's focus on the simulator first."
   ]
  },
  {
   "cell_type": "code",
   "execution_count": 19,
   "id": "04f6bfe0-5477-4b96-b646-a745f08cb417",
   "metadata": {},
   "outputs": [
    {
     "name": "stderr",
     "output_type": "stream",
     "text": [
      "/Users/jonesm3/Python/virtualenvironment2/lib/python3.13/site-packages/qiskit_ibm_runtime/fake_provider/local_service.py:187: UserWarning: The resilience_level option has no effect in local testing mode.\n",
      "  warnings.warn(\"The resilience_level option has no effect in local testing mode.\")\n"
     ]
    },
    {
     "name": "stdout",
     "output_type": "stream",
     "text": [
      "Return from COBYLA because the objective function has been evaluated MAXFUN times.\n",
      "Number of function values = 30   Least value of F = -0.5682256217676477\n",
      "The corresponding X is:\n",
      "[ 6.04141796  7.77214441  6.47924422  3.40446138  0.71183158  1.30034675\n",
      "  1.33461145 -0.46682254  5.75749839  2.2508843   5.30040193  1.72372748]\n",
      "\n",
      "Nuclear repulsion energy: 0.7199689944489797\n",
      "Electronic energy       : -1.2881946162166273\n",
      "Total energy            : -0.5682256217676477\n"
     ]
    }
   ],
   "source": [
    "from qiskit_ibm_runtime import QiskitRuntimeService, Session\n",
    "from qiskit_ibm_runtime.options import EstimatorOptions\n",
    "from qiskit_ibm_runtime import EstimatorV2 as Estimator\n",
    "\n",
    "estimator_options = EstimatorOptions(resilience_level=0, default_shots=2000)\n",
    "path = []\n",
    "with Session(backend=noisy_simulator) as session:\n",
    "    estimator = Estimator(mode=session, options=estimator_options)\n",
    "    \n",
    "    res = minimize(\n",
    "        cost_func,\n",
    "        initial_parameters,\n",
    "        args=(transpiled_ansatz, transpiled_H, estimator, path),\n",
    "        method=\"cobyla\",\n",
    "        options={\"maxiter\": 30, \"disp\": True},\n",
    "    )\n",
    "\n",
    "print('Nuclear repulsion energy:', mf.energy_nuc())\n",
    "print('Electronic energy       :', res.fun-mf.energy_nuc())\n",
    "print('Total energy            :', res.fun)"
   ]
  },
  {
   "cell_type": "markdown",
   "id": "f2848ec1-3acd-494b-9a7a-a6e2f2d64ff5",
   "metadata": {},
   "source": [
    "## Step 4: post-process and return classical result"
   ]
  },
  {
   "cell_type": "markdown",
   "id": "5fe25186-cb62-462f-a3ed-646defb13bda",
   "metadata": {},
   "source": [
    "Most of the classical computation is handled by the `Estimator` primitive, but we can plot the results below"
   ]
  },
  {
   "cell_type": "code",
   "execution_count": 20,
   "id": "89969618-c0c7-467c-9f5a-265ca6f91584",
   "metadata": {},
   "outputs": [
    {
     "data": {
      "text/plain": [
       "<matplotlib.legend.Legend at 0x11a105010>"
      ]
     },
     "execution_count": 20,
     "metadata": {},
     "output_type": "execute_result"
    },
    {
     "data": {
      "image/png": "[encoded data removed]",
      "text/plain": [
       "<Figure size 640x480 with 1 Axes>"
      ]
     },
     "metadata": {},
     "output_type": "display_data"
    }
   ],
   "source": [
    "from matplotlib import pyplot as plt\n",
    "fig = plt.figure()\n",
    "ax = fig.add_subplot()\n",
    "ax.plot(range(res.nfev), path, '.-', label='minimisation path')\n",
    "ax.plot([0,res.nfev-1], [res.fun]*2, label='minimum energy located')\n",
    "# ax.plot([0,res.nfev-1], [mf.energy_tot()]*2, 'k:', label='MF energy')\n",
    "# ax.plot([0,res.nfev-1], [cas_results[0]]*2, 'k--', label='CAS energy')\n",
    "ax.set_ylabel('Molecular energy (atomic units)')\n",
    "ax.set_xlabel('Function evaluation')\n",
    "ax.set_xlim([0,res.nfev])\n",
    "ax.legend(loc='center left', bbox_to_anchor=[1,0.5])"
   ]
  },
  {
   "cell_type": "markdown",
   "id": "9eee2110-b8bd-4d5b-ac07-0223e830fb7f",
   "metadata": {},
   "source": [
    "Do you understand the graph?\n",
    "\n",
    "Add in the mean-field and complete active space results, what do you notice? What does this mean for your VQE results?\n",
    "\n",
    "Test out different options:\n",
    "- different Ansätze\n",
    "- different initial parameters\n",
    "- change the transpiler options\n",
    "- use a different optimiser\n",
    "- anything else you can think of\n",
    "\n",
    "How do these affect your results? How would you improve the VQE results?"
   ]
  },
  {
   "cell_type": "code",
   "execution_count": null,
   "id": "03807e63-50b9-415f-9b57-48e3a9dd1d59",
   "metadata": {},
   "outputs": [],
   "source": []
  }
 ],
 "metadata": {
  "kernelspec": {
   "display_name": "virtualenvironment2",
   "language": "python",
   "name": "virtualenvironment2"
  },
  "language_info": {
   "codemirror_mode": {
    "name": "ipython",
    "version": 3
   },
   "file_extension": ".py",
   "mimetype": "text/x-python",
   "name": "python",
   "nbconvert_exporter": "python",
   "pygments_lexer": "ipython3",
   "version": "3.13.1"
  }
 },
 "nbformat": 4,
 "nbformat_minor": 5
}
